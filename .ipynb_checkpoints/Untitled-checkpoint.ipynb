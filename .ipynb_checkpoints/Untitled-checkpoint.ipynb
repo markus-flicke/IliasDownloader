{
 "cells": [
  {
   "cell_type": "code",
   "execution_count": 1,
   "metadata": {},
   "outputs": [],
   "source": [
    "from selenium import webdriver\n",
    "from selenium.webdriver.common.by import By\n",
    "import pandas as pd\n",
    "import re\n",
    "import sys\n",
    "from Navigator import Navigator\n",
    "from Reader import Reader\n",
    "import os"
   ]
  },
  {
   "cell_type": "code",
   "execution_count": 2,
   "metadata": {},
   "outputs": [],
   "source": []
  },
  {
   "cell_type": "code",
   "execution_count": 3,
   "metadata": {
    "scrolled": false
   },
   "outputs": [
    {
     "name": "stdout",
     "output_type": "stream",
     "text": [
      "reading: output/\n",
      "reading: output/Bockisch: VL Objektorientierte Programmierung/\n",
      "reading: output/Bockisch: VL Objektorientierte Programmierung/Vorlesungsmaterialien/\n",
      "complete: output/Bockisch: VL Objektorientierte Programmierung/Vorlesungsmaterialien/\n",
      "reading: output/Bockisch: VL Objektorientierte Programmierung/Aufgabenblätter/\n",
      "complete: output/Bockisch: VL Objektorientierte Programmierung/Aufgabenblätter/\n",
      "reading: output/Bockisch: VL Objektorientierte Programmierung/Präsenzaufgaben/\n",
      "complete: output/Bockisch: VL Objektorientierte Programmierung/Präsenzaufgaben/\n",
      "complete: output/Bockisch: VL Objektorientierte Programmierung/\n",
      "reading: output/Freisleben: SE Deep Learning zur Bild- und Videoanalyse/\n",
      "reading: output/Freisleben: SE Deep Learning zur Bild- und Videoanalyse/16. Okt 2018, 16:15 - 17:00: Seminarvorstellung/\n",
      "complete: output/Freisleben: SE Deep Learning zur Bild- und Videoanalyse/16. Okt 2018, 16:15 - 17:00: Seminarvorstellung/\n",
      "reading: output/Freisleben: SE Deep Learning zur Bild- und Videoanalyse/05. Nov 2018: Ende des Anmeldezeitraums/\n",
      "complete: output/Freisleben: SE Deep Learning zur Bild- und Videoanalyse/05. Nov 2018: Ende des Anmeldezeitraums/\n",
      "reading: output/Freisleben: SE Deep Learning zur Bild- und Videoanalyse/20. Nov 2018: Gliederung der Seminararbeit/\n",
      "complete: output/Freisleben: SE Deep Learning zur Bild- und Videoanalyse/20. Nov 2018: Gliederung der Seminararbeit/\n",
      "complete: output/Freisleben: SE Deep Learning zur Bild- und Videoanalyse/\n",
      "reading: output/Holzmann: VL Elementare Stochastik/\n",
      "reading: output/Holzmann: VL Elementare Stochastik/Arbeitsblätter/\n",
      "complete: output/Holzmann: VL Elementare Stochastik/Arbeitsblätter/\n",
      "reading: output/Holzmann: VL Elementare Stochastik/Aufgabenblätter/\n",
      "complete: output/Holzmann: VL Elementare Stochastik/Aufgabenblätter/\n",
      "reading: output/Holzmann: VL Elementare Stochastik/Folien/\n",
      "complete: output/Holzmann: VL Elementare Stochastik/Folien/\n",
      "reading: output/Holzmann: VL Elementare Stochastik/Tauschen von Tutoriumsterminen bis Sonntag, 28.10., 20 Uhr/\n",
      "complete: output/Holzmann: VL Elementare Stochastik/Tauschen von Tutoriumsterminen bis Sonntag, 28.10., 20 Uhr/\n",
      "complete: output/Holzmann: VL Elementare Stochastik/\n",
      "reading: output/Komusiewicz: VL Effiziente Algorithmen/\n",
      "reading: output/Komusiewicz: VL Effiziente Algorithmen/Vorlesungsfolien/\n",
      "complete: output/Komusiewicz: VL Effiziente Algorithmen/Vorlesungsfolien/\n",
      "reading: output/Komusiewicz: VL Effiziente Algorithmen/Übungsaufgaben/\n",
      "complete: output/Komusiewicz: VL Effiziente Algorithmen/Übungsaufgaben/\n",
      "complete: output/Komusiewicz: VL Effiziente Algorithmen/\n",
      "reading: output/Softwaretechnik/\n",
      "reading: output/Softwaretechnik/Mittwoch 1/\n",
      "complete: output/Softwaretechnik/Mittwoch 1/\n",
      "reading: output/Softwaretechnik/Donnerstag 1/\n",
      "complete: output/Softwaretechnik/Donnerstag 1/\n",
      "reading: output/Softwaretechnik/Donnerstag 2/\n",
      "complete: output/Softwaretechnik/Donnerstag 2/\n",
      "reading: output/Softwaretechnik/Donnerstag 3/\n",
      "complete: output/Softwaretechnik/Donnerstag 3/\n",
      "reading: output/Softwaretechnik/Folien/\n",
      "complete: output/Softwaretechnik/Folien/\n",
      "reading: output/Softwaretechnik/Tutorium/\n",
      "reading: output/Softwaretechnik/Tutorium/Tut01/\n",
      "complete: output/Softwaretechnik/Tutorium/Tut01/\n",
      "reading: output/Softwaretechnik/Tutorium/Tut02/\n",
      "complete: output/Softwaretechnik/Tutorium/Tut02/\n",
      "complete: output/Softwaretechnik/Tutorium/\n",
      "complete: output/Softwaretechnik/\n",
      "reading: output/Surowiec: VL Lineare Optimierung 2018 (Surowiec)/\n",
      "reading: output/Surowiec: VL Lineare Optimierung 2018 (Surowiec)/Tutorium Do 12-14 Uhr/\n",
      "complete: output/Surowiec: VL Lineare Optimierung 2018 (Surowiec)/Tutorium Do 12-14 Uhr/\n",
      "reading: output/Surowiec: VL Lineare Optimierung 2018 (Surowiec)/Tutorium Do 16-18 Uhr/\n",
      "complete: output/Surowiec: VL Lineare Optimierung 2018 (Surowiec)/Tutorium Do 16-18 Uhr/\n",
      "reading: output/Surowiec: VL Lineare Optimierung 2018 (Surowiec)/Tutorium Do 8-10 Uhr/\n",
      "complete: output/Surowiec: VL Lineare Optimierung 2018 (Surowiec)/Tutorium Do 8-10 Uhr/\n",
      "reading: output/Surowiec: VL Lineare Optimierung 2018 (Surowiec)/Tutorium Fr 16-18 Uhr/\n",
      "complete: output/Surowiec: VL Lineare Optimierung 2018 (Surowiec)/Tutorium Fr 16-18 Uhr/\n",
      "reading: output/Surowiec: VL Lineare Optimierung 2018 (Surowiec)/Vorlesungsfolien/\n",
      "complete: output/Surowiec: VL Lineare Optimierung 2018 (Surowiec)/Vorlesungsfolien/\n",
      "complete: output/Surowiec: VL Lineare Optimierung 2018 (Surowiec)/\n",
      "reading: output/Thormählen: VL Technische Informatik/\n",
      "reading: output/Thormählen: VL Technische Informatik/Gruppe 1: Mi. 16:00 - 18:00 Uhr, MZ 6 Seminarraum V (05D09), Leonie Mühlherr/\n",
      "complete: output/Thormählen: VL Technische Informatik/Gruppe 1: Mi. 16:00 - 18:00 Uhr, MZ 6 Seminarraum V (05D09), Leonie Mühlherr/\n",
      "reading: output/Thormählen: VL Technische Informatik/Gruppe 2: Mi. 16:00 - 18:00 Uhr, MZ 6 Hörsaal I (03A20), Lea Fischbach/\n",
      "complete: output/Thormählen: VL Technische Informatik/Gruppe 2: Mi. 16:00 - 18:00 Uhr, MZ 6 Hörsaal I (03A20), Lea Fischbach/\n",
      "reading: output/Thormählen: VL Technische Informatik/Gruppe 3: Fr. 14:00 - 16:00 Uhr, MZ 6 Hörsaal VI (03A11), Axel Novak/\n",
      "complete: output/Thormählen: VL Technische Informatik/Gruppe 3: Fr. 14:00 - 16:00 Uhr, MZ 6 Hörsaal VI (03A11), Axel Novak/\n",
      "reading: output/Thormählen: VL Technische Informatik/Gruppe 4: Do. 14:00 - 16:00 Uhr, MZ 6 Seminarraum VI (03A10), Halya Pidstrigach/\n",
      "complete: output/Thormählen: VL Technische Informatik/Gruppe 4: Do. 14:00 - 16:00 Uhr, MZ 6 Seminarraum VI (03A10), Halya Pidstrigach/\n",
      "reading: output/Thormählen: VL Technische Informatik/Gruppe 5: Do. 14:00 - 16:00 Uhr, MZ 6 Seminarraum II (03A21), Stefan Störmer/\n",
      "complete: output/Thormählen: VL Technische Informatik/Gruppe 5: Do. 14:00 - 16:00 Uhr, MZ 6 Seminarraum II (03A21), Stefan Störmer/\n",
      "reading: output/Thormählen: VL Technische Informatik/Gruppe 6: Do. 16:00 - 18:00 Uhr, MZ 6 Hörsaal HS I (03A20), Alexandra Plein/\n",
      "complete: output/Thormählen: VL Technische Informatik/Gruppe 6: Do. 16:00 - 18:00 Uhr, MZ 6 Hörsaal HS I (03A20), Alexandra Plein/\n",
      "reading: output/Thormählen: VL Technische Informatik/Forum Technische Informatik/\n",
      "complete: output/Thormählen: VL Technische Informatik/Forum Technische Informatik/\n",
      "complete: output/Thormählen: VL Technische Informatik/\n",
      "reading: output/Gruppe 2: Mi. 16:00 - 18:00 Uhr, MZ 6 Hörsaal I (03A20), Lea Fischbach/\n",
      "complete: output/Gruppe 2: Mi. 16:00 - 18:00 Uhr, MZ 6 Hörsaal I (03A20), Lea Fischbach/\n",
      "reading: output/Lernzentrum/\n",
      "complete: output/Lernzentrum/\n",
      "reading: output/Mittwoch 1/\n",
      "complete: output/Mittwoch 1/\n",
      "reading: output/Tutorium Do 16-18 Uhr/\n",
      "complete: output/Tutorium Do 16-18 Uhr/\n",
      "complete: output/\n"
     ]
    }
   ],
   "source": []
  },
  {
   "cell_type": "code",
   "execution_count": null,
   "metadata": {},
   "outputs": [],
   "source": []
  }
 ],
 "metadata": {
  "kernelspec": {
   "display_name": "Python 3",
   "language": "python",
   "name": "python3"
  },
  "language_info": {
   "codemirror_mode": {
    "name": "ipython",
    "version": 3
   },
   "file_extension": ".py",
   "mimetype": "text/x-python",
   "name": "python",
   "nbconvert_exporter": "python",
   "pygments_lexer": "ipython3",
   "version": "3.6.5"
  }
 },
 "nbformat": 4,
 "nbformat_minor": 2
}
